{
 "cells": [
  {
   "cell_type": "markdown",
   "metadata": {},
   "source": [
    "# <font color=#B40431>Ensemble Methods<font>"
   ]
  },
  {
   "cell_type": "markdown",
   "metadata": {},
   "source": [
    "## <font color=#424242>A Sexy Machine Learning Strategy<font>"
   ]
  },
  {
   "cell_type": "markdown",
   "metadata": {},
   "source": [
    "### Dataset"
   ]
  },
  {
   "cell_type": "markdown",
   "metadata": {},
   "source": [
    "We want to assess the credit risk of someone using its finantial history. \n",
    "Basically, we'll use 20 finantial attributes to classify people as good or bad credit risks. \n",
    "\n",
    "We have a set of samples labeled as low risk or high risk. So, this is a binary classification problem.\n",
    "\n",
    "Attributes:\n",
    "-  __A1:__ status of existing checking account (categorical)\n",
    "-  __A2:__ credit duration in months (numerical)\n",
    "-  __A3:__ credit history (categorical)\n",
    "-  __A4:__ credit purpose (categorical)\n",
    "-  __A5:__ credit amount (numerical)\n",
    "-  __A6:__ savings account/bonds (categorical)\n",
    "-  __A7:__ how long one is employed in the current job (categorical)\n",
    "-  __A8:__ installment rate in percentage of disposable income (numerical)\n",
    "-  __A9:__ personal status and sex (categorical)\n",
    "-  __A10:__ other debtors/guarantors (categorical)\n",
    "-  __A11:__ how long one lives in the current residence (numerical)\n",
    "-  __A12:__ property (categorical)\n",
    "-  __A13:__ age (numerical)\n",
    "-  __A14:__ other installment plans (categorical)\n",
    "-  __A15:__ housing (categorical)\n",
    "-  __A16:__ number of existing credits at this bank (numerical)\n",
    "-  __A17:__ job (categorical)\n",
    "-  __A18:__ number of people being liable to provide maintenance for (numerical) \n",
    "-  __A19:__ telephone (categorical, bool)\n",
    "-  __A20:__ foreign worker (categorical, bool)\n",
    "\n",
    "The dataset is available online:\n",
    "https://archive.ics.uci.edu/ml/machine-learning-databases/statlog/german/"
   ]
  },
  {
   "cell_type": "markdown",
   "metadata": {},
   "source": [
    "## Settings"
   ]
  },
  {
   "cell_type": "code",
   "execution_count": 1,
   "metadata": {},
   "outputs": [],
   "source": [
    "# imports\n",
    "import os\n",
    "import pandas as pd\n",
    "import seaborn as sns\n",
    "import matplotlib.pyplot as plt\n",
    "\n",
    "# seeding the generated number makes our results reproducible\n",
    "from random import seed \n",
    "from sklearn.model_selection import train_test_split\n",
    "from sklearn.model_selection import GridSearchCV\n",
    "from sklearn.tree import DecisionTreeClassifier\n",
    "from sklearn.ensemble import RandomForestClassifier, GradientBoostingClassifier\n",
    "from sklearn.metrics import classification_report, confusion_matrix, accuracy_score, precision_recall_curve, roc_curve, auc"
   ]
  },
  {
   "cell_type": "code",
   "execution_count": 2,
   "metadata": {},
   "outputs": [],
   "source": [
    "# directory and paths\n",
    "project_dir = os.path.dirname(os.getcwd())\n",
    "path_data = os.path.join(project_dir, 'data', 'german_data.txt')\n",
    "\n",
    "settings = {'grid_search':False}\n",
    "seed(1994)"
   ]
  },
  {
   "cell_type": "markdown",
   "metadata": {},
   "source": [
    "## Load Data"
   ]
  },
  {
   "cell_type": "code",
   "execution_count": 3,
   "metadata": {},
   "outputs": [
    {
     "data": {
      "text/html": [
       "<div>\n",
       "<style scoped>\n",
       "    .dataframe tbody tr th:only-of-type {\n",
       "        vertical-align: middle;\n",
       "    }\n",
       "\n",
       "    .dataframe tbody tr th {\n",
       "        vertical-align: top;\n",
       "    }\n",
       "\n",
       "    .dataframe thead th {\n",
       "        text-align: right;\n",
       "    }\n",
       "</style>\n",
       "<table border=\"1\" class=\"dataframe\">\n",
       "  <thead>\n",
       "    <tr style=\"text-align: right;\">\n",
       "      <th></th>\n",
       "      <th>A1</th>\n",
       "      <th>A2</th>\n",
       "      <th>A3</th>\n",
       "      <th>A4</th>\n",
       "      <th>A5</th>\n",
       "      <th>A6</th>\n",
       "      <th>A7</th>\n",
       "      <th>A8</th>\n",
       "      <th>A9</th>\n",
       "      <th>A10</th>\n",
       "      <th>...</th>\n",
       "      <th>A12</th>\n",
       "      <th>A13</th>\n",
       "      <th>A14</th>\n",
       "      <th>A15</th>\n",
       "      <th>A16</th>\n",
       "      <th>A17</th>\n",
       "      <th>A18</th>\n",
       "      <th>A19</th>\n",
       "      <th>A20</th>\n",
       "      <th>TARGET</th>\n",
       "    </tr>\n",
       "  </thead>\n",
       "  <tbody>\n",
       "    <tr>\n",
       "      <th>0</th>\n",
       "      <td>A11</td>\n",
       "      <td>6</td>\n",
       "      <td>A34</td>\n",
       "      <td>A43</td>\n",
       "      <td>1169</td>\n",
       "      <td>A65</td>\n",
       "      <td>A75</td>\n",
       "      <td>4</td>\n",
       "      <td>A93</td>\n",
       "      <td>A101</td>\n",
       "      <td>...</td>\n",
       "      <td>A121</td>\n",
       "      <td>67</td>\n",
       "      <td>A143</td>\n",
       "      <td>A152</td>\n",
       "      <td>2</td>\n",
       "      <td>A173</td>\n",
       "      <td>1</td>\n",
       "      <td>A192</td>\n",
       "      <td>A201</td>\n",
       "      <td>good</td>\n",
       "    </tr>\n",
       "    <tr>\n",
       "      <th>1</th>\n",
       "      <td>A12</td>\n",
       "      <td>48</td>\n",
       "      <td>A32</td>\n",
       "      <td>A43</td>\n",
       "      <td>5951</td>\n",
       "      <td>A61</td>\n",
       "      <td>A73</td>\n",
       "      <td>2</td>\n",
       "      <td>A92</td>\n",
       "      <td>A101</td>\n",
       "      <td>...</td>\n",
       "      <td>A121</td>\n",
       "      <td>22</td>\n",
       "      <td>A143</td>\n",
       "      <td>A152</td>\n",
       "      <td>1</td>\n",
       "      <td>A173</td>\n",
       "      <td>1</td>\n",
       "      <td>A191</td>\n",
       "      <td>A201</td>\n",
       "      <td>bad</td>\n",
       "    </tr>\n",
       "    <tr>\n",
       "      <th>2</th>\n",
       "      <td>A14</td>\n",
       "      <td>12</td>\n",
       "      <td>A34</td>\n",
       "      <td>A46</td>\n",
       "      <td>2096</td>\n",
       "      <td>A61</td>\n",
       "      <td>A74</td>\n",
       "      <td>2</td>\n",
       "      <td>A93</td>\n",
       "      <td>A101</td>\n",
       "      <td>...</td>\n",
       "      <td>A121</td>\n",
       "      <td>49</td>\n",
       "      <td>A143</td>\n",
       "      <td>A152</td>\n",
       "      <td>1</td>\n",
       "      <td>A172</td>\n",
       "      <td>2</td>\n",
       "      <td>A191</td>\n",
       "      <td>A201</td>\n",
       "      <td>good</td>\n",
       "    </tr>\n",
       "    <tr>\n",
       "      <th>3</th>\n",
       "      <td>A11</td>\n",
       "      <td>42</td>\n",
       "      <td>A32</td>\n",
       "      <td>A42</td>\n",
       "      <td>7882</td>\n",
       "      <td>A61</td>\n",
       "      <td>A74</td>\n",
       "      <td>2</td>\n",
       "      <td>A93</td>\n",
       "      <td>A103</td>\n",
       "      <td>...</td>\n",
       "      <td>A122</td>\n",
       "      <td>45</td>\n",
       "      <td>A143</td>\n",
       "      <td>A153</td>\n",
       "      <td>1</td>\n",
       "      <td>A173</td>\n",
       "      <td>2</td>\n",
       "      <td>A191</td>\n",
       "      <td>A201</td>\n",
       "      <td>good</td>\n",
       "    </tr>\n",
       "    <tr>\n",
       "      <th>4</th>\n",
       "      <td>A11</td>\n",
       "      <td>24</td>\n",
       "      <td>A33</td>\n",
       "      <td>A40</td>\n",
       "      <td>4870</td>\n",
       "      <td>A61</td>\n",
       "      <td>A73</td>\n",
       "      <td>3</td>\n",
       "      <td>A93</td>\n",
       "      <td>A101</td>\n",
       "      <td>...</td>\n",
       "      <td>A124</td>\n",
       "      <td>53</td>\n",
       "      <td>A143</td>\n",
       "      <td>A153</td>\n",
       "      <td>2</td>\n",
       "      <td>A173</td>\n",
       "      <td>2</td>\n",
       "      <td>A191</td>\n",
       "      <td>A201</td>\n",
       "      <td>bad</td>\n",
       "    </tr>\n",
       "  </tbody>\n",
       "</table>\n",
       "<p>5 rows × 21 columns</p>\n",
       "</div>"
      ],
      "text/plain": [
       "    A1  A2   A3   A4    A5   A6   A7  A8   A9   A10  ...     A12 A13   A14  \\\n",
       "0  A11   6  A34  A43  1169  A65  A75   4  A93  A101  ...    A121  67  A143   \n",
       "1  A12  48  A32  A43  5951  A61  A73   2  A92  A101  ...    A121  22  A143   \n",
       "2  A14  12  A34  A46  2096  A61  A74   2  A93  A101  ...    A121  49  A143   \n",
       "3  A11  42  A32  A42  7882  A61  A74   2  A93  A103  ...    A122  45  A143   \n",
       "4  A11  24  A33  A40  4870  A61  A73   3  A93  A101  ...    A124  53  A143   \n",
       "\n",
       "    A15 A16   A17 A18   A19   A20 TARGET  \n",
       "0  A152   2  A173   1  A192  A201   good  \n",
       "1  A152   1  A173   1  A191  A201    bad  \n",
       "2  A152   1  A172   2  A191  A201   good  \n",
       "3  A153   1  A173   2  A191  A201   good  \n",
       "4  A153   2  A173   2  A191  A201    bad  \n",
       "\n",
       "[5 rows x 21 columns]"
      ]
     },
     "execution_count": 3,
     "metadata": {},
     "output_type": "execute_result"
    }
   ],
   "source": [
    "# load dataset\n",
    "column_name = ['A'+str(i) for i in range(1,21)] + ['TARGET']\n",
    "df_data = pd.read_csv(path_data, sep=\" \", header=None, names=column_name, dtype={'TARGET':str})\n",
    "\n",
    "# replace class names\n",
    "df_data.replace({'TARGET':{'1':'good', '2':'bad'}}, inplace=True)\n",
    "df_data.head()"
   ]
  },
  {
   "cell_type": "markdown",
   "metadata": {},
   "source": [
    "# Exploratory Data Analysis"
   ]
  },
  {
   "cell_type": "markdown",
   "metadata": {},
   "source": [
    "*Use the Scikit-learn flowchart to find one reliable estimator for the job\n",
    "https://scikit-learn.org/stable/tutorial/machine_learning_map/index.html"
   ]
  },
  {
   "cell_type": "code",
   "execution_count": 4,
   "metadata": {},
   "outputs": [
    {
     "name": "stdout",
     "output_type": "stream",
     "text": [
      "Number of samples: 1000\n"
     ]
    }
   ],
   "source": [
    "# 1 - check how many samples you have\n",
    "print('Number of samples: {}'.format(df_data.shape[0]))"
   ]
  },
  {
   "cell_type": "code",
   "execution_count": 5,
   "metadata": {},
   "outputs": [
    {
     "data": {
      "image/png": "[encoded data removed]",
      "text/plain": [
       "<Figure size 576x432 with 1 Axes>"
      ]
     },
     "metadata": {
      "needs_background": "light"
     },
     "output_type": "display_data"
    }
   ],
   "source": [
    "# 2 - check if classes are balanced or unbalanced\n",
    "data = df_data.TARGET.value_counts()\n",
    "#sns.set(style=\"whitegrid\")\n",
    "\n",
    "plt.figure(figsize=(8, 6))\n",
    "sns.set()\n",
    "sns.barplot(x = data.index, y=data.values, palette=\"Blues_d\", order=['good', 'bad'])\n",
    "plt.title('Classes Distribution')\n",
    "plt.xlabel('Classes')\n",
    "plt.ylabel('Frequency')\n",
    "plt.show()"
   ]
  },
  {
   "cell_type": "markdown",
   "metadata": {},
   "source": [
    "Comment: Classes are unbalanced."
   ]
  },
  {
   "cell_type": "code",
   "execution_count": 6,
   "metadata": {},
   "outputs": [
    {
     "data": {
      "image/png": "[encoded data removed]",
      "text/plain": [
       "<Figure size 576x432 with 1 Axes>"
      ]
     },
     "metadata": {},
     "output_type": "display_data"
    }
   ],
   "source": [
    "# 3 - check a numerical feature - credit duration in month\n",
    "plt.figure(figsize=(8, 6))\n",
    "sns.set()\n",
    "sns.boxplot(x=\"TARGET\", y=\"A2\", data=df_data, palette=\"Blues_d\", whis=10)\n",
    "plt.title('Credit Duration')\n",
    "plt.xlabel('Classes')\n",
    "plt.ylabel('Duration')\n",
    "plt.show()"
   ]
  },
  {
   "cell_type": "code",
   "execution_count": 7,
   "metadata": {},
   "outputs": [
    {
     "data": {
      "image/png": "[encoded data removed]",
      "text/plain": [
       "<Figure size 720x432 with 1 Axes>"
      ]
     },
     "metadata": {},
     "output_type": "display_data"
    }
   ],
   "source": [
    "# 4 - check a category feature - status of existing checking accounts\n",
    "data = pd.DataFrame(df_data.groupby('TARGET').apply(lambda x: x['A1'].value_counts()))\n",
    "data.reset_index(inplace=True)\n",
    "data.columns=['TARGET', 'A1', 'COUNT']\n",
    "\n",
    "plt.figure(figsize=(10, 6))\n",
    "sns.set()\n",
    "sns.barplot(x='A1', y='COUNT', hue='TARGET', data=data, palette=\"Blues_d\", hue_order=['good', 'bad'], \n",
    "            order=sorted(data.A1.unique()))\n",
    "plt.title('Checking Accounts')\n",
    "plt.xlabel('Status of Existing Checking Accounts')\n",
    "plt.ylabel('Frequency')\n",
    "plt.show()"
   ]
  },
  {
   "cell_type": "markdown",
   "metadata": {},
   "source": [
    "-  __A11:__ 0 DM\n",
    "-  __A12:__ < 200 DM\n",
    "-  __A13:__ >= 200 DM\n",
    "-  __A14:__ no checking account\n",
    "\n",
    "*DM stands for Deutsche Mark"
   ]
  },
  {
   "cell_type": "code",
   "execution_count": 8,
   "metadata": {},
   "outputs": [
    {
     "data": {
      "image/png": "[encoded data removed]",
      "text/plain": [
       "<Figure size 720x432 with 1 Axes>"
      ]
     },
     "metadata": {},
     "output_type": "display_data"
    }
   ],
   "source": [
    "# 5 - check a category feature - credit history\n",
    "data = pd.DataFrame(data=df_data.groupby('TARGET')['A3'].value_counts())\n",
    "data.columns = ['COUNT']\n",
    "data.reset_index(inplace=True)\n",
    "\n",
    "plt.figure(figsize=(10, 6))\n",
    "sns.set()\n",
    "sns.barplot(x='A3', y='COUNT', hue='TARGET', data=data, palette=\"Blues_d\", hue_order=['good', 'bad'], \n",
    "            order=sorted(data.A3.unique()))\n",
    "plt.title('Credit History')\n",
    "plt.xlabel('Credit history')\n",
    "plt.ylabel('Frequency')\n",
    "plt.show()"
   ]
  },
  {
   "attachments": {},
   "cell_type": "markdown",
   "metadata": {},
   "source": [
    "-  __A30:__ No credit taken/ all credits paid back duly\n",
    "-  __A31:__ All credits at this bank paid back duly\n",
    "-  __A32:__ Existing credits paid back duly till now\n",
    "-  __A33:__ Delay in paying off in the past\n",
    "-  __A34:__ Critical account/ other credits existing at different banks\n"
   ]
  },
  {
   "cell_type": "markdown",
   "metadata": {},
   "source": [
    "### <font color=#B40431>__Exercise 1:__<font> \n",
    "-  Generate the bar chart for attribute __A17__, grouped by class. \n",
    "-  Draw conclusions from the graph."
   ]
  },
  {
   "cell_type": "code",
   "execution_count": 32,
   "metadata": {},
   "outputs": [],
   "source": [
    "# check a category feature - job qualification\n",
    "# insert your code here"
   ]
  },
  {
   "cell_type": "markdown",
   "metadata": {},
   "source": [
    "-  __A171:__ unemployed or unskilled - non-residen\n",
    "-  __A172:__ unskilled - resident\n",
    "-  __A173:__ skilled employee or official\n",
    "-  __A174:__ management, self-employed, highly qualified employee or officer"
   ]
  },
  {
   "cell_type": "markdown",
   "metadata": {},
   "source": [
    "## Convert categorical features into dummies"
   ]
  },
  {
   "cell_type": "code",
   "execution_count": 10,
   "metadata": {},
   "outputs": [
    {
     "data": {
      "text/html": [
       "<div>\n",
       "<style scoped>\n",
       "    .dataframe tbody tr th:only-of-type {\n",
       "        vertical-align: middle;\n",
       "    }\n",
       "\n",
       "    .dataframe tbody tr th {\n",
       "        vertical-align: top;\n",
       "    }\n",
       "\n",
       "    .dataframe thead th {\n",
       "        text-align: right;\n",
       "    }\n",
       "</style>\n",
       "<table border=\"1\" class=\"dataframe\">\n",
       "  <thead>\n",
       "    <tr style=\"text-align: right;\">\n",
       "      <th></th>\n",
       "      <th>A2</th>\n",
       "      <th>A5</th>\n",
       "      <th>A8</th>\n",
       "      <th>A11</th>\n",
       "      <th>A13</th>\n",
       "      <th>A16</th>\n",
       "      <th>A18</th>\n",
       "      <th>A1_A12</th>\n",
       "      <th>A1_A13</th>\n",
       "      <th>A1_A14</th>\n",
       "      <th>...</th>\n",
       "      <th>A12_A124</th>\n",
       "      <th>A14_A142</th>\n",
       "      <th>A14_A143</th>\n",
       "      <th>A15_A152</th>\n",
       "      <th>A15_A153</th>\n",
       "      <th>A17_A172</th>\n",
       "      <th>A17_A173</th>\n",
       "      <th>A17_A174</th>\n",
       "      <th>A19_A192</th>\n",
       "      <th>A20_A202</th>\n",
       "    </tr>\n",
       "  </thead>\n",
       "  <tbody>\n",
       "    <tr>\n",
       "      <th>0</th>\n",
       "      <td>6</td>\n",
       "      <td>1169</td>\n",
       "      <td>4</td>\n",
       "      <td>4</td>\n",
       "      <td>67</td>\n",
       "      <td>2</td>\n",
       "      <td>1</td>\n",
       "      <td>0</td>\n",
       "      <td>0</td>\n",
       "      <td>0</td>\n",
       "      <td>...</td>\n",
       "      <td>0</td>\n",
       "      <td>0</td>\n",
       "      <td>1</td>\n",
       "      <td>1</td>\n",
       "      <td>0</td>\n",
       "      <td>0</td>\n",
       "      <td>1</td>\n",
       "      <td>0</td>\n",
       "      <td>1</td>\n",
       "      <td>0</td>\n",
       "    </tr>\n",
       "    <tr>\n",
       "      <th>1</th>\n",
       "      <td>48</td>\n",
       "      <td>5951</td>\n",
       "      <td>2</td>\n",
       "      <td>2</td>\n",
       "      <td>22</td>\n",
       "      <td>1</td>\n",
       "      <td>1</td>\n",
       "      <td>1</td>\n",
       "      <td>0</td>\n",
       "      <td>0</td>\n",
       "      <td>...</td>\n",
       "      <td>0</td>\n",
       "      <td>0</td>\n",
       "      <td>1</td>\n",
       "      <td>1</td>\n",
       "      <td>0</td>\n",
       "      <td>0</td>\n",
       "      <td>1</td>\n",
       "      <td>0</td>\n",
       "      <td>0</td>\n",
       "      <td>0</td>\n",
       "    </tr>\n",
       "    <tr>\n",
       "      <th>2</th>\n",
       "      <td>12</td>\n",
       "      <td>2096</td>\n",
       "      <td>2</td>\n",
       "      <td>3</td>\n",
       "      <td>49</td>\n",
       "      <td>1</td>\n",
       "      <td>2</td>\n",
       "      <td>0</td>\n",
       "      <td>0</td>\n",
       "      <td>1</td>\n",
       "      <td>...</td>\n",
       "      <td>0</td>\n",
       "      <td>0</td>\n",
       "      <td>1</td>\n",
       "      <td>1</td>\n",
       "      <td>0</td>\n",
       "      <td>1</td>\n",
       "      <td>0</td>\n",
       "      <td>0</td>\n",
       "      <td>0</td>\n",
       "      <td>0</td>\n",
       "    </tr>\n",
       "    <tr>\n",
       "      <th>3</th>\n",
       "      <td>42</td>\n",
       "      <td>7882</td>\n",
       "      <td>2</td>\n",
       "      <td>4</td>\n",
       "      <td>45</td>\n",
       "      <td>1</td>\n",
       "      <td>2</td>\n",
       "      <td>0</td>\n",
       "      <td>0</td>\n",
       "      <td>0</td>\n",
       "      <td>...</td>\n",
       "      <td>0</td>\n",
       "      <td>0</td>\n",
       "      <td>1</td>\n",
       "      <td>0</td>\n",
       "      <td>1</td>\n",
       "      <td>0</td>\n",
       "      <td>1</td>\n",
       "      <td>0</td>\n",
       "      <td>0</td>\n",
       "      <td>0</td>\n",
       "    </tr>\n",
       "    <tr>\n",
       "      <th>4</th>\n",
       "      <td>24</td>\n",
       "      <td>4870</td>\n",
       "      <td>3</td>\n",
       "      <td>4</td>\n",
       "      <td>53</td>\n",
       "      <td>2</td>\n",
       "      <td>2</td>\n",
       "      <td>0</td>\n",
       "      <td>0</td>\n",
       "      <td>0</td>\n",
       "      <td>...</td>\n",
       "      <td>1</td>\n",
       "      <td>0</td>\n",
       "      <td>1</td>\n",
       "      <td>0</td>\n",
       "      <td>1</td>\n",
       "      <td>0</td>\n",
       "      <td>1</td>\n",
       "      <td>0</td>\n",
       "      <td>0</td>\n",
       "      <td>0</td>\n",
       "    </tr>\n",
       "  </tbody>\n",
       "</table>\n",
       "<p>5 rows × 48 columns</p>\n",
       "</div>"
      ],
      "text/plain": [
       "   A2    A5  A8  A11  A13  A16  A18  A1_A12  A1_A13  A1_A14    ...     \\\n",
       "0   6  1169   4    4   67    2    1       0       0       0    ...      \n",
       "1  48  5951   2    2   22    1    1       1       0       0    ...      \n",
       "2  12  2096   2    3   49    1    2       0       0       1    ...      \n",
       "3  42  7882   2    4   45    1    2       0       0       0    ...      \n",
       "4  24  4870   3    4   53    2    2       0       0       0    ...      \n",
       "\n",
       "   A12_A124  A14_A142  A14_A143  A15_A152  A15_A153  A17_A172  A17_A173  \\\n",
       "0         0         0         1         1         0         0         1   \n",
       "1         0         0         1         1         0         0         1   \n",
       "2         0         0         1         1         0         1         0   \n",
       "3         0         0         1         0         1         0         1   \n",
       "4         1         0         1         0         1         0         1   \n",
       "\n",
       "   A17_A174  A19_A192  A20_A202  \n",
       "0         0         1         0  \n",
       "1         0         0         0  \n",
       "2         0         0         0  \n",
       "3         0         0         0  \n",
       "4         0         0         0  \n",
       "\n",
       "[5 rows x 48 columns]"
      ]
     },
     "execution_count": 10,
     "metadata": {},
     "output_type": "execute_result"
    }
   ],
   "source": [
    "# get predictors and classes\n",
    "inputs = df_data.iloc[:,:-1]\n",
    "targets = df_data['TARGET']\n",
    "\n",
    "# Convert categorical variable into dummy/indicator variables\n",
    "categ_cols = ['A1', 'A3', 'A4', 'A6', 'A7', 'A9', 'A10', 'A12', 'A14', 'A15', 'A17', 'A19', 'A20']\n",
    "inputs = pd.get_dummies(inputs, columns=categ_cols, drop_first=True)\n",
    "inputs.head()"
   ]
  },
  {
   "cell_type": "markdown",
   "metadata": {},
   "source": [
    "## Split data into training and test sets"
   ]
  },
  {
   "cell_type": "code",
   "execution_count": 11,
   "metadata": {},
   "outputs": [],
   "source": [
    "# Split data into random train and test subsets\n",
    "X_train, X_test, y_train, y_test = train_test_split(inputs, targets, test_size=0.3, stratify=targets, random_state=40)"
   ]
  },
  {
   "cell_type": "markdown",
   "metadata": {},
   "source": [
    "# <font color=#B40431>Random Forest<font>"
   ]
  },
  {
   "cell_type": "markdown",
   "metadata": {},
   "source": [
    "## Grid search"
   ]
  },
  {
   "cell_type": "code",
   "execution_count": 12,
   "metadata": {},
   "outputs": [],
   "source": [
    "# Define parameters \n",
    "params_grid = {\n",
    "    'n_estimators': [10, 100, 1000, 5000],\n",
    "    'criterion': ['gini', 'entropy'],\n",
    "    'max_depth': [None],\n",
    "    'min_samples_split': [2],\n",
    "    'min_samples_leaf': [1],\n",
    "    'max_features': ['auto'],\n",
    "    'bootstrap': [True, False]\n",
    "}"
   ]
  },
  {
   "cell_type": "code",
   "execution_count": 13,
   "metadata": {},
   "outputs": [
    {
     "data": {
      "text/plain": [
       "{'bootstrap': True,\n",
       " 'criterion': 'gini',\n",
       " 'max_depth': None,\n",
       " 'max_features': 'auto',\n",
       " 'min_samples_leaf': 1,\n",
       " 'min_samples_split': 2,\n",
       " 'n_estimators': 1000}"
      ]
     },
     "execution_count": 13,
     "metadata": {},
     "output_type": "execute_result"
    }
   ],
   "source": [
    "# Exhaustive search over specified parameter values for an estimator\n",
    "if settings['grid_search']:\n",
    "    clf_srch_rf = GridSearchCV(RandomForestClassifier(), params_grid, scoring='roc_auc', cv=3)\n",
    "    clf_srch_rf.fit(X_train, y_train)\n",
    "\n",
    "    # Get best parameters\n",
    "    params = clf_srch_rf.best_params_\n",
    "else:\n",
    "    # If you want to avoid performing the grid search, uncomment the code below\n",
    "    params = {\n",
    "        'bootstrap': True, \n",
    "        'criterion': 'gini',\n",
    "        'max_depth': None,\n",
    "        'max_features': 'auto',\n",
    "        'min_samples_leaf': 1,\n",
    "        'min_samples_split': 2,\n",
    "        'n_estimators': 1000}\n",
    "params"
   ]
  },
  {
   "cell_type": "markdown",
   "metadata": {},
   "source": [
    "## Model Fitting"
   ]
  },
  {
   "cell_type": "code",
   "execution_count": 14,
   "metadata": {},
   "outputs": [],
   "source": [
    "# Build a forest of trees from the training set (X_train, y_train)\n",
    "clf_rf = RandomForestClassifier(**params)\n",
    "clf_rf.fit(X_train, y_train)\n",
    "\n",
    "# Predict class for X_train and X_test\n",
    "y_pred_train = clf_rf.predict(X_train)\n",
    "y_pred_test = clf_rf.predict(X_test)"
   ]
  },
  {
   "cell_type": "markdown",
   "metadata": {},
   "source": [
    "## Performance Evaluation"
   ]
  },
  {
   "cell_type": "markdown",
   "metadata": {},
   "source": [
    "\\begin{equation}\n",
    "TPR = Recall = \\frac{TP}{P} = \\frac{TP}{TP+FN}\n",
    "\\end{equation}\n",
    "\n",
    "\\begin{equation}\n",
    "FPR = Fall-out = \\frac{FP}{N} = \\frac{FP}{FP+TN}\n",
    "\\end{equation}\n",
    "\n",
    "\\begin{equation}\n",
    "PPV = Precision = \\frac{TP}{TP+FP}\n",
    "\\end{equation}\n",
    "\n",
    "\\begin{equation}\n",
    "f1 = 2\\frac{PPV*TPR}{PPV+TPV}\n",
    "\\end{equation}"
   ]
  },
  {
   "cell_type": "code",
   "execution_count": 15,
   "metadata": {},
   "outputs": [
    {
     "data": {
      "image/png": "[encoded data removed]",
      "text/plain": [
       "<Figure size 720x432 with 2 Axes>"
      ]
     },
     "metadata": {},
     "output_type": "display_data"
    }
   ],
   "source": [
    "# Compute confusion matrix to evaluate the accuracy of a classification\n",
    "conf_matrix = confusion_matrix(y_test, y_pred_test, labels=['good', 'bad'])\n",
    "\n",
    "plt.figure(figsize=(10, 6))\n",
    "sns.set()\n",
    "sns.heatmap(conf_matrix, xticklabels=['good', 'bad'], yticklabels=['good', 'bad'], annot=True, cmap=\"Blues\")\n",
    "plt.xlabel('Predicted')\n",
    "plt.ylabel('Actual')\n",
    "plt.title('Confusion matrix of the classifier')\n",
    "\n",
    "plt.show()"
   ]
  },
  {
   "cell_type": "markdown",
   "metadata": {},
   "source": [
    "*The label \"bad\" is considered as positive"
   ]
  },
  {
   "cell_type": "code",
   "execution_count": 16,
   "metadata": {},
   "outputs": [
    {
     "name": "stdout",
     "output_type": "stream",
     "text": [
      "True Negative (TN): 191\n",
      "False Positive (FP): 19\n",
      "False Negative (FN): 56\n",
      "True Negative (TN): 34\n"
     ]
    }
   ],
   "source": [
    "print('True Negative (TN): {}'.format(conf_matrix[0,0]))\n",
    "print('False Positive (FP): {}'.format(conf_matrix[0,1]))\n",
    "print('False Negative (FN): {}'.format(conf_matrix[1,0]))\n",
    "print('True Negative (TN): {}'.format(conf_matrix[1,1]))"
   ]
  },
  {
   "cell_type": "code",
   "execution_count": 17,
   "metadata": {},
   "outputs": [
    {
     "name": "stdout",
     "output_type": "stream",
     "text": [
      "                 bad        good  micro avg   macro avg  weighted avg\n",
      "f1-score    0.475524    0.835886       0.75    0.655705      0.727778\n",
      "precision   0.641509    0.773279       0.75    0.707394      0.733748\n",
      "recall      0.377778    0.909524       0.75    0.643651      0.750000\n",
      "support    90.000000  210.000000     300.00  300.000000    300.000000\n",
      "\n",
      "Accuracy = 75.00%\n"
     ]
    }
   ],
   "source": [
    "# Get classification report\n",
    "df_class_report = pd.DataFrame(classification_report(y_test, y_pred_test, output_dict=True))\n",
    "print(df_class_report)\n",
    "\n",
    "# Get accuracy score\n",
    "acc = accuracy_score(y_test, y_pred_test)\n",
    "print('\\nAccuracy = {:.2%}'.format(acc))"
   ]
  },
  {
   "cell_type": "code",
   "execution_count": 18,
   "metadata": {},
   "outputs": [],
   "source": [
    "def binarize(y, target='bad'):\n",
    "    return [1 if y_i=='bad' else 0 for y_i in y]"
   ]
  },
  {
   "cell_type": "code",
   "execution_count": 19,
   "metadata": {},
   "outputs": [
    {
     "name": "stderr",
     "output_type": "stream",
     "text": [
      "/Users/nb23864/anaconda3/lib/python3.7/site-packages/scipy/stats/stats.py:1713: FutureWarning: Using a non-tuple sequence for multidimensional indexing is deprecated; use `arr[tuple(seq)]` instead of `arr[seq]`. In the future this will be interpreted as an array index, `arr[np.array(seq)]`, which will result either in an error or a different result.\n",
      "  return np.add.reduce(sorted[indexer] * weights, axis=axis) / sumval\n"
     ]
    },
    {
     "data": {
      "image/png": "[encoded data removed]",
      "text/plain": [
       "<Figure size 576x432 with 1 Axes>"
      ]
     },
     "metadata": {},
     "output_type": "display_data"
    },
    {
     "name": "stdout",
     "output_type": "stream",
     "text": [
      "AUC: 0.79\n"
     ]
    }
   ],
   "source": [
    "# Plot the ROC curve \n",
    "y_pred_test_prob = clf_rf.predict_proba(X_test)\n",
    "fpr, tpr, trs = roc_curve(binarize(y_test), y_pred_test_prob[:,0])\n",
    "\n",
    "plt.figure(figsize=(8, 6))\n",
    "sns.set()\n",
    "sns.lineplot(fpr, tpr, palette=\"Blues_d\")\n",
    "plt.title('ROC Curve')\n",
    "plt.xlabel('FPR')\n",
    "plt.ylabel('TPR')\n",
    "plt.show()\n",
    "\n",
    "print('AUC: {:.2}'.format(auc(fpr, tpr)))"
   ]
  },
  {
   "cell_type": "markdown",
   "metadata": {},
   "source": [
    "### <font color=#B40431>__Exercise 2:__<font> \n",
    "-  Check for overfitting by computing the accuracy score both for training set and test set.\n",
    "-  As you know, RF has some knobs to avoid overfitting. Apply some changes to such parameters and draw some conclusions."
   ]
  },
  {
   "cell_type": "code",
   "execution_count": 33,
   "metadata": {},
   "outputs": [],
   "source": [
    "# Check for overfitting\n",
    "# if accuracy score for the training set is much higher than the accuracy for the test set, \n",
    "# the model is prone to overfitting\n",
    "\n",
    "# training set\n",
    "# insert your code here\n",
    "\n",
    "# test set\n",
    "# insert your code here"
   ]
  },
  {
   "cell_type": "markdown",
   "metadata": {},
   "source": [
    "### <font color=#B40431>__Exercise 3:__<font> \n",
    "-  Check the feature importance. Find out which are the 5 attributes with higher importance."
   ]
  },
  {
   "cell_type": "code",
   "execution_count": 34,
   "metadata": {},
   "outputs": [],
   "source": [
    "# Return the feature importances \n",
    "# insert your code here"
   ]
  },
  {
   "cell_type": "markdown",
   "metadata": {},
   "source": [
    "# <font color=#B40431>Gradient Boosting Machine<font>"
   ]
  },
  {
   "cell_type": "markdown",
   "metadata": {},
   "source": [
    "### <font color=#B40431>__Exercise 4:__<font> \n",
    "-  Fit a Gradient Boosting Machine to the German Credit Risk Assessment dataset.\n",
    "-  Evaluate the model performance.\n",
    "-  Check which model performs better in this case and try to understand why.\n",
    "    \n",
    "https://scikit-learn.org/stable/modules/generated/sklearn.ensemble.GradientBoostingClassifier.html"
   ]
  },
  {
   "cell_type": "markdown",
   "metadata": {},
   "source": [
    "## Grid search"
   ]
  },
  {
   "cell_type": "code",
   "execution_count": 22,
   "metadata": {},
   "outputs": [],
   "source": [
    "# Define parameters \n",
    "params_grid = {\n",
    "    'loss': ['deviance', 'exponential'],\n",
    "    'learning_rate': [0.1],\n",
    "    'n_estimators': [10, 100, 1000, 5000],\n",
    "    'criterion': ['friedman_mse'],\n",
    "    'max_depth': [None],\n",
    "    'min_samples_split': [2],\n",
    "    'min_samples_leaf': [1],\n",
    "    'max_features': ['auto'],\n",
    "    'subsample': [0.5]\n",
    "}"
   ]
  },
  {
   "cell_type": "code",
   "execution_count": 36,
   "metadata": {},
   "outputs": [
    {
     "data": {
      "text/plain": [
       "{'criterion': 'friedman_mse',\n",
       " 'learning_rate': 0.05,\n",
       " 'max_depth': 30,\n",
       " 'max_features': 'auto',\n",
       " 'min_samples_leaf': 5,\n",
       " 'min_samples_split': 10,\n",
       " 'n_estimators': 350,\n",
       " 'subsample': 0.6}"
      ]
     },
     "execution_count": 36,
     "metadata": {},
     "output_type": "execute_result"
    }
   ],
   "source": [
    "# Exhaustive search over specified parameter values for an estimator\n",
    "if settings['grid_search']:\n",
    "    # insert your code here\n",
    "    pass\n",
    "else:\n",
    "    # If you want to avoid performing the grid search, uncomment the code below\n",
    "    params = {\n",
    "        'criterion': 'friedman_mse',\n",
    "        'learning_rate': 0.05,\n",
    "        'max_depth': 30,\n",
    "        'max_features': 'auto',\n",
    "        'min_samples_leaf': 5,\n",
    "        'min_samples_split': 10,\n",
    "        'n_estimators': 350,\n",
    "        'subsample': .6\n",
    "        }\n",
    "params"
   ]
  },
  {
   "cell_type": "markdown",
   "metadata": {},
   "source": [
    "## Model Fitting"
   ]
  },
  {
   "cell_type": "code",
   "execution_count": 24,
   "metadata": {},
   "outputs": [],
   "source": [
    "# Build a forest of trees from the training set (X_train, y_train)\n",
    "# insert your code here\n",
    "\n",
    "# Predict class for X_train and X_test\n",
    "# insert your code here"
   ]
  },
  {
   "cell_type": "markdown",
   "metadata": {},
   "source": [
    "## Performance Evaluation"
   ]
  },
  {
   "cell_type": "code",
   "execution_count": 37,
   "metadata": {},
   "outputs": [],
   "source": [
    "# Compute confusion matrix to evaluate the accuracy of a classification\n",
    "# insert your code here"
   ]
  },
  {
   "cell_type": "code",
   "execution_count": 38,
   "metadata": {},
   "outputs": [],
   "source": [
    "# Print TN, FP, FN and TN\n",
    "# insert your code here"
   ]
  },
  {
   "cell_type": "code",
   "execution_count": 40,
   "metadata": {},
   "outputs": [],
   "source": [
    "# Get classification report\n",
    "# insert your code here\n",
    "\n",
    "# Get accuracy score\n",
    "# insert your code here"
   ]
  },
  {
   "cell_type": "code",
   "execution_count": 39,
   "metadata": {},
   "outputs": [],
   "source": [
    "# Plot the ROC curve \n",
    "# insert your code here"
   ]
  },
  {
   "cell_type": "code",
   "execution_count": 41,
   "metadata": {},
   "outputs": [],
   "source": [
    "# Check for overfitting\n",
    "# if accuracy score for the training set is much higher than the accuracy for the test set, \n",
    "# the model is prone to overfitting\n",
    "\n",
    "# training set\n",
    "# insert your code here\n",
    "\n",
    "# test set\n",
    "# insert your code here"
   ]
  },
  {
   "cell_type": "code",
   "execution_count": 42,
   "metadata": {},
   "outputs": [],
   "source": [
    "# Return the feature importances\n",
    "# insert your code here"
   ]
  }
 ],
 "metadata": {
  "kernelspec": {
   "display_name": "Python 3",
   "language": "python",
   "name": "python3"
  },
  "language_info": {
   "codemirror_mode": {
    "name": "ipython",
    "version": 3
   },
   "file_extension": ".py",
   "mimetype": "text/x-python",
   "name": "python",
   "nbconvert_exporter": "python",
   "pygments_lexer": "ipython3",
   "version": "3.7.1"
  }
 },
 "nbformat": 4,
 "nbformat_minor": 2
}
